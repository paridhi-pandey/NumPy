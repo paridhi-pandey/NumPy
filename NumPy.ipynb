{
  "nbformat": 4,
  "nbformat_minor": 0,
  "metadata": {
    "colab": {
      "provenance": [],
      "authorship_tag": "ABX9TyMgfI4YfOpqw1uZEPTR5Q32",
      "include_colab_link": true
    },
    "kernelspec": {
      "name": "python3",
      "display_name": "Python 3"
    },
    "language_info": {
      "name": "python"
    }
  },
  "cells": [
    {
      "cell_type": "markdown",
      "metadata": {
        "id": "view-in-github",
        "colab_type": "text"
      },
      "source": [
        "<a href=\"https://colab.research.google.com/github/paridhi-pandey/NumPy/blob/main/NumPy.ipynb\" target=\"_parent\"><img src=\"https://colab.research.google.com/assets/colab-badge.svg\" alt=\"Open In Colab\"/></a>"
      ]
    },
    {
      "cell_type": "markdown",
      "source": [
        "# Practice Task based on NumPy"
      ],
      "metadata": {
        "id": "pTbrMVOwtg18"
      }
    },
    {
      "cell_type": "markdown",
      "source": [
        "## Find row/column sums"
      ],
      "metadata": {
        "id": "1rBZ1PIEtsVv"
      }
    },
    {
      "cell_type": "code",
      "execution_count": null,
      "metadata": {
        "colab": {
          "base_uri": "https://localhost:8080/"
        },
        "id": "kajmgyoBv9Ac",
        "outputId": "c491eeb0-b4d1-413d-9522-ccab603b86fb"
      },
      "outputs": [
        {
          "output_type": "stream",
          "name": "stdout",
          "text": [
            "[[1 2 3]\n",
            " [4 5 6]]\n",
            "Row-wise sum: [ 6 15]\n",
            "Column-wise sum: [5 7 9]\n"
          ]
        }
      ],
      "source": [
        "import numpy as np\n",
        "\n",
        "a = np.array([[1, 2, 3], [4, 5, 6]])  #Creating a 2D Array\n",
        "print(a)\n",
        "\n",
        "row_sum = np.sum(a, axis=1)  #Calculating row-wise sum\n",
        "print(\"Row-wise sum:\", row_sum)\n",
        "\n",
        "col_sum = np.sum(a, axis=0)  #Calculating column-wise sum\n",
        "print(\"Column-wise sum:\", col_sum)\n"
      ]
    },
    {
      "cell_type": "markdown",
      "source": [
        "## Filter elements > 50"
      ],
      "metadata": {
        "id": "9zkb5QQ6thU0"
      }
    },
    {
      "cell_type": "code",
      "source": [
        "import numpy as np\n",
        "\n",
        "arr = np.array([[10, 55, 60],\n",
        "                [45, 75, 30]])  #Creating a 2D Array\n",
        "\n",
        "filter = arr[arr > 50]  #Filtering Elements above 50\n",
        "print(\"Elements greater than 50 are:\", filter)"
      ],
      "metadata": {
        "colab": {
          "base_uri": "https://localhost:8080/"
        },
        "id": "BrzhCZTewi8A",
        "outputId": "f375b003-d815-4d7a-906c-68b0b6dbf23f"
      },
      "execution_count": null,
      "outputs": [
        {
          "output_type": "stream",
          "name": "stdout",
          "text": [
            "Elements greater than 50 are: [55 60 75]\n"
          ]
        }
      ]
    }
  ]
}